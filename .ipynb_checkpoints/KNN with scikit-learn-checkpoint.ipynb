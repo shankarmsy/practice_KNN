{
 "metadata": {
  "name": "",
  "signature": "sha256:176ecd463916d98ee62eae38ab1c6434a8642f79fcd832b7b36cc3b95e03dd84"
 },
 "nbformat": 3,
 "nbformat_minor": 0,
 "worksheets": [
  {
   "cells": [
    {
     "cell_type": "markdown",
     "metadata": {},
     "source": [
      "##Classification"
     ]
    },
    {
     "cell_type": "markdown",
     "metadata": {},
     "source": [
      "###K nearest neighbors (kNN)"
     ]
    },
    {
     "cell_type": "markdown",
     "metadata": {},
     "source": [
      "K nearest neighbors (kNN) is one of the simplest supervised learning strategies: given a new, unknown observation, it simply looks up in the reference database which ones have the closest features and assigns the predominant class."
     ]
    },
    {
     "cell_type": "code",
     "collapsed": false,
     "input": [
      "#Importing required packages\n",
      "\n",
      "from sklearn.neighbors import KNeighborsClassifier\n",
      "from sklearn import metrics\n",
      "from sklearn.cross_validation import train_test_split\n",
      "import matplotlib.pyplot as plt\n",
      "import matplotlib as mpl\n",
      "import numpy as np\n",
      "%matplotlib inline"
     ],
     "language": "python",
     "metadata": {},
     "outputs": [],
     "prompt_number": 1
    },
    {
     "cell_type": "code",
     "collapsed": false,
     "input": [
      "#Let's begin by exploring one of scikit-learn's easiest sample datasets, the Iris.\n",
      "from sklearn.datasets import load_iris\n",
      "iris = load_iris()\n",
      "print iris.keys()"
     ],
     "language": "python",
     "metadata": {},
     "outputs": [
      {
       "output_type": "stream",
       "stream": "stdout",
       "text": [
        "['target_names', 'data', 'target', 'DESCR', 'feature_names']\n"
       ]
      }
     ],
     "prompt_number": 9
    },
    {
     "cell_type": "code",
     "collapsed": false,
     "input": [
      "#The Iris contains data about 3 types of Iris flowers namely:\n",
      "print iris.target_names\n",
      "\n",
      "#Let's look at the shape of the Iris dataset\n",
      "print iris.data.shape\n",
      "print iris.target.shape\n",
      "\n",
      "#So there is data for 150 Iris flowers and a target set with 0,1,2 depending on the type of Iris.\n",
      "#Let's look at the features\n",
      "print iris.feature_names\n",
      "\n",
      "#Great, now the objective is to learn from this dataset so given a new Iris flower we can best guess its type\n",
      "#Let's keep this simple to start with and train on the whole dataset."
     ],
     "language": "python",
     "metadata": {},
     "outputs": [
      {
       "output_type": "stream",
       "stream": "stdout",
       "text": [
        "['setosa' 'versicolor' 'virginica']\n",
        "(150, 4)\n",
        "(150,)\n",
        "['sepal length (cm)', 'sepal width (cm)', 'petal length (cm)', 'petal width (cm)']\n"
       ]
      }
     ],
     "prompt_number": 13
    },
    {
     "cell_type": "code",
     "collapsed": false,
     "input": [
      "#Fitting the Iris dataset using KNN\n",
      "X,y = iris.data, iris.target\n",
      "\n",
      "#Fitting KNN with 1 Neighbor. This is generally a very bad idea since the 1st closest neighbor to each point is itself\n",
      "#so we will definitely overfit. It's equivalent to hardcoding labels for each row in the dataset.\n",
      "iris_knn = KNeighborsClassifier(n_neighbors = 1).fit(X,y)\n",
      "\n",
      "#Now running predictions on the same dataset X. We should obviously get 100% accuracy\n",
      "y_pred = iris_knn.predict(X)\n",
      "\n",
      "#Confirming our assumption that if we run predictions on X, we will accurately predict all 150 labels \n",
      "print np.all(y_pred==y)\n",
      "iris_knn.score(X,y) #Score is 100%"
     ],
     "language": "python",
     "metadata": {},
     "outputs": [
      {
       "output_type": "stream",
       "stream": "stdout",
       "text": [
        "True\n"
       ]
      },
      {
       "metadata": {},
       "output_type": "pyout",
       "prompt_number": 29,
       "text": [
        "1.0"
       ]
      }
     ],
     "prompt_number": 29
    },
    {
     "cell_type": "code",
     "collapsed": false,
     "input": [
      "#Let's run KNN with something more reasonable, neighbors = 3\n",
      "iris_knn = KNeighborsClassifier(n_neighbors = 5).fit(X,y)\n",
      "print iris_knn.score(X,y)\n",
      "y_pred=iris_knn.predict(X)"
     ],
     "language": "python",
     "metadata": {},
     "outputs": [
      {
       "output_type": "stream",
       "stream": "stdout",
       "text": [
        "0.966666666667\n"
       ]
      }
     ],
     "prompt_number": 57
    },
    {
     "cell_type": "code",
     "collapsed": false,
     "input": [
      "#Let's run a quick PCA to reduce X down to 2D so we can visualize\n",
      "from sklearn.decomposition import PCA\n",
      "X_proj = PCA(2).fit_transform(X)\n",
      "\n",
      "#Let's plot the actual labels and those predicted by KNN side-by-side for comparison\n",
      "fig, ax = plt.subplots(1,2,figsize=(8,3))\n",
      "ax[0].scatter(X_proj[:,0], X_proj[:,1], c=y)\n",
      "ax[0].set_title('Actual labels')\n",
      "ax[1].scatter(X_proj[:,0], X_proj[:,1], c=y_pred)\n",
      "ax[1].set_title('Predicted labels')"
     ],
     "language": "python",
     "metadata": {},
     "outputs": [
      {
       "metadata": {},
       "output_type": "pyout",
       "prompt_number": 58,
       "text": [
        "<matplotlib.text.Text at 0x7f36e9509cd0>"
       ]
      },
      {
       "metadata": {},
       "output_type": "display_data",
       "png": "[encoded data removed]",
       "text": [
        "<matplotlib.figure.Figure at 0x7f36e9621650>"
       ]
      }
     ],
     "prompt_number": 58
    },
    {
     "cell_type": "code",
     "collapsed": false,
     "input": [
      "#OK let's now split the iris dataset into Training and Test sets so we can see how well\n",
      "#the classifier generalizes\n",
      "X_train, X_test, y_train, y_test = train_test_split(X,y)\n",
      "print X_train.shape, X_test.shape"
     ],
     "language": "python",
     "metadata": {},
     "outputs": [
      {
       "output_type": "stream",
       "stream": "stdout",
       "text": [
        "(112, 4) (38, 4)\n"
       ]
      }
     ],
     "prompt_number": 63
    },
    {
     "cell_type": "code",
     "collapsed": false,
     "input": [
      "#Now let's train on X_train and predict on X_test\n",
      "iris_knn = KNeighborsClassifier(n_neighbors=5).fit(X_train, y_train)\n",
      "y_pred = iris_knn.predict(X_test)\n",
      "\n",
      "#Let's check the scores for X_train and X_test\n",
      "print \"n_neighbors=5, Training cross-validation score\", iris_knn.score(X_train, y_train)\n",
      "print \"n_neighbors=5, Test cross-validation score\", iris_knn.score(X_test, y_test)\n",
      "\n",
      "#They're almost the same and looks like the algorithm is generalizing pretty well.\n",
      "\n",
      "#Just to confirm understanding let's run with neighbors=1. This must yield a very high training score\n",
      "#but not a great test score.\n",
      "#Now let's train on X_train and predict on X_test\n",
      "iris_knn = KNeighborsClassifier(n_neighbors=1).fit(X_train, y_train)\n",
      "y_pred = iris_knn.predict(X_test)\n",
      "\n",
      "#Let's check the scores for X_train and X_test\n",
      "print \"n_neighbors=1, Training cross-validation score\", iris_knn.score(X_train, y_train)\n",
      "print \"n_neighbors=1, Test cross-validation score\", iris_knn.score(X_test, y_test)\n",
      "\n",
      "#That's perfect! Reverting back to 5 neighbors so we can plot a comparison figure\n",
      "iris_knn = KNeighborsClassifier(n_neighbors=5).fit(X_train, y_train)\n",
      "y_pred = iris_knn.predict(X_test)"
     ],
     "language": "python",
     "metadata": {},
     "outputs": [
      {
       "output_type": "stream",
       "stream": "stdout",
       "text": [
        "n_neighbors=5, Training cross-validation score 0.973214285714\n",
        "n_neighbors=5, Test cross-validation score 0.973684210526\n",
        "n_neighbors=1, Training cross-validation score 1.0\n",
        "n_neighbors=1, Test cross-validation score 0.947368421053\n"
       ]
      }
     ],
     "prompt_number": 78
    },
    {
     "cell_type": "code",
     "collapsed": false,
     "input": [
      "#Plotting test actuals and predicted for comparison\n",
      "X_proj = PCA(2).fit_transform(X_test)\n",
      "\n",
      "fig, ax = plt.subplots(1,2,figsize=(8,3))\n",
      "ax[0].scatter(X_proj[:,0], X_proj[:,1], c=y_test, s=50)\n",
      "ax[0].set_title('Test Actuals')\n",
      "ax[1].scatter(X_proj[:,0], X_proj[:,1], c=y_pred, s=50)\n",
      "ax[1].set_title('Test Predicted')"
     ],
     "language": "python",
     "metadata": {},
     "outputs": [
      {
       "metadata": {},
       "output_type": "pyout",
       "prompt_number": 96,
       "text": [
        "<matplotlib.text.Text at 0x7f36e9180710>"
       ]
      },
      {
       "metadata": {},
       "output_type": "display_data",
       "png": "[encoded data removed]",
       "text": [
        "<matplotlib.figure.Figure at 0x7f36e9425490>"
       ]
      }
     ],
     "prompt_number": 96
    },
    {
     "cell_type": "markdown",
     "metadata": {},
     "source": [
      "**PIMA Indians Diabetes Data (UCI ML Repo)**   \n",
      "Let's move on to bigger and better things. We'll analyze the Diabetes dataset available for download from the UCI Machine Learning Repository."
     ]
    },
    {
     "cell_type": "code",
     "collapsed": false,
     "input": [
      "#Download the data from the UCI website using urllib\n",
      "import urllib\n",
      "url = (\"https://archive.ics.uci.edu/ml/machine-learning-databases/pima-indians-diabetes/pima-indians-diabetes.data\")\n",
      "raw_data = urllib.urlopen(url)\n",
      "\n",
      "#The file is a CSV, let's read it into a numpy array\n",
      "#Note: not using Pandas to examine/clean the dataset at this point since this dataset is pretty well-cleansed.\n",
      "diab = np.genfromtxt(raw_data, delimiter=\",\")\n",
      "print diab.shape\n",
      "\n",
      "#This dataset has 9 columns, 9th one seems to be the labels, 1 or 0 for Diabetes or no Diabetes.\n",
      "#Let's split into X,y\n",
      "X,y = diab[:,:-1], diab[:,-1:].squeeze() #squeeze to flatten the labels into the vector y\n",
      "\n",
      "print X.shape, y.shape\n",
      "\n",
      "#Let's run the train/test split\n",
      "X_train, X_test, y_train, y_test = train_test_split(X,y)\n",
      "print X_train.shape, X_test.shape"
     ],
     "language": "python",
     "metadata": {},
     "outputs": [
      {
       "output_type": "stream",
       "stream": "stdout",
       "text": [
        "(768, 9)\n",
        "(768, 8) (768,)\n",
        "(576, 8) (192, 8)\n"
       ]
      }
     ],
     "prompt_number": 2
    },
    {
     "cell_type": "code",
     "collapsed": false,
     "input": [
      "#Great! now, let's run the kNN classifier with 3 neighbors and see how it does.\n",
      "diab_knn = KNeighborsClassifier(n_neighbors=3).fit(X_train, y_train)\n",
      "y_pred = diab_knn.predict(X_test)\n",
      "y_train_pred = diab_knn.predict(X_train)\n",
      "\n",
      "#Let's get the score summary\n",
      "print \"Results with 3 Neighbors\"\n",
      "print metrics.classification_report(y_test, y_pred, target_names=['No Diabetes', 'Diabetes'])\n",
      "print metrics.classification_report(y_train, y_train_pred, target_names=['No Diabetes', 'Diabetes'])\n",
      "\n",
      "#So we had a training accuracy of 84% but only a test accuracy of 72%\n",
      "#The precision/recall metrics tell us out of each category (No Diabetes or Diabetes) how many we predicted right."
     ],
     "language": "python",
     "metadata": {},
     "outputs": [
      {
       "output_type": "stream",
       "stream": "stdout",
       "text": [
        "Results with 3 Neighbors\n",
        "             precision    recall  f1-score   support\n",
        "\n",
        "No Diabetes       0.77      0.82      0.80       125\n",
        "   Diabetes       0.63      0.55      0.59        67\n",
        "\n",
        "avg / total       0.72      0.73      0.72       192\n",
        "\n",
        "             precision    recall  f1-score   support\n",
        "\n",
        "No Diabetes       0.86      0.91      0.88       375\n",
        "   Diabetes       0.80      0.72      0.76       201\n",
        "\n",
        "avg / total       0.84      0.84      0.84       576\n",
        "\n"
       ]
      }
     ],
     "prompt_number": 162
    },
    {
     "cell_type": "code",
     "collapsed": false,
     "input": [
      "#OK, not so great so far. Let's see if we can improve the score by increasing neighbors.\n",
      "diab_knn = KNeighborsClassifier(n_neighbors=5).fit(X_train, y_train)\n",
      "y_pred = diab_knn.predict(X_test)\n",
      "y_train_pred = diab_knn.predict(X_train)\n",
      "\n",
      "#Let's get the score summary\n",
      "print \"Results with 5 Neighbors\"\n",
      "print metrics.classification_report(y_test, y_pred, target_names=['No Diabetes', 'Diabetes'])\n",
      "print metrics.classification_report(y_train, y_train_pred, target_names=['No Diabetes', 'Diabetes'])\n",
      "\n",
      "#OK we did ever so slightly better on the test set but did much poorly on the Training set. \n",
      "#If we continue to tune in this fashion, we will end up biasing our model based on the Test set.\n",
      "#Trying out even more number of neighbors, turns out our first choice of neighbors=3 is actually the best, \n",
      "#Is there any other setting we could play with?"
     ],
     "language": "python",
     "metadata": {},
     "outputs": [
      {
       "output_type": "stream",
       "stream": "stdout",
       "text": [
        "Results with 5 Neighbors\n",
        "             precision    recall  f1-score   support\n",
        "\n",
        "No Diabetes       0.78      0.82      0.80       125\n",
        "   Diabetes       0.63      0.57      0.60        67\n",
        "\n",
        "avg / total       0.73      0.73      0.73       192\n",
        "\n",
        "             precision    recall  f1-score   support\n",
        "\n",
        "No Diabetes       0.81      0.88      0.84       375\n",
        "   Diabetes       0.73      0.62      0.67       201\n",
        "\n",
        "avg / total       0.78      0.79      0.78       576\n",
        "\n"
       ]
      }
     ],
     "prompt_number": 169
    },
    {
     "cell_type": "code",
     "collapsed": false,
     "input": [
      "#Let's try the Ball Tree algorithm, just for kickers!\n",
      "diab_knn = KNeighborsClassifier(n_neighbors=3, algorithm=\"ball_tree\").fit(X_train, y_train)\n",
      "y_pred = diab_knn.predict(X_test)\n",
      "y_train_pred = diab_knn.predict(X_train)\n",
      "\n",
      "#Let's get the score summary\n",
      "print \"Results with 3 Neighbors and the Ball Tree algo\"\n",
      "print metrics.classification_report(y_test, y_pred, target_names=['No Diabetes', 'Diabetes'])\n",
      "print metrics.classification_report(y_train, y_train_pred, target_names=['No Diabetes', 'Diabetes'])\n",
      "\n",
      "# Looks like we've exhausted the capabilities of KNN. Let's try this with other more sophisticated supervised learning \n",
      "# algorithms.\n",
      "\n",
      "#No Changes, looks like we've hit the ceiling with kNN."
     ],
     "language": "python",
     "metadata": {},
     "outputs": [
      {
       "output_type": "stream",
       "stream": "stdout",
       "text": [
        "Results with 3 Neighbors and the Ball Tree algo\n",
        "             precision    recall  f1-score   support\n",
        "\n",
        "No Diabetes       0.77      0.82      0.80       125\n",
        "   Diabetes       0.63      0.55      0.59        67\n",
        "\n",
        "avg / total       0.72      0.73      0.72       192\n",
        "\n",
        "             precision    recall  f1-score   support\n",
        "\n",
        "No Diabetes       0.86      0.91      0.88       375\n",
        "   Diabetes       0.80      0.72      0.76       201\n",
        "\n",
        "avg / total       0.84      0.84      0.84       576\n",
        "\n",
        "Generalization Score with 3 Neighbors:  1.0\n"
       ]
      }
     ],
     "prompt_number": 171
    },
    {
     "cell_type": "code",
     "collapsed": false,
     "input": [
      "#Below is a plot_learning_curve module that's provided by scikit-learn. It allows us to quickly and easily visualize how\n",
      "#well the model is performing based on number of samples we're training on. It helps to understand situations such as \n",
      "#high variance or bias.\n",
      "\n",
      "#We'll call this module in the next segment. \n",
      "\n",
      "print(__doc__)\n",
      "\n",
      "import numpy as np\n",
      "import matplotlib.pyplot as plt\n",
      "from sklearn import cross_validation\n",
      "from sklearn.naive_bayes import GaussianNB\n",
      "from sklearn.svm import SVC\n",
      "from sklearn.datasets import load_digits\n",
      "from sklearn.learning_curve import learning_curve\n",
      "\n",
      "\n",
      "def plot_learning_curve(estimator, title, X, y, ylim=None, cv=None,\n",
      "                        n_jobs=1, train_sizes=np.linspace(.1, 1.0, 5)):\n",
      "    \"\"\"\n",
      "    Generate a simple plot of the test and traning learning curve.\n",
      "\n",
      "    Parameters\n",
      "    ----------\n",
      "    estimator : object type that implements the \"fit\" and \"predict\" methods\n",
      "        An object of that type which is cloned for each validation.\n",
      "\n",
      "    title : string\n",
      "        Title for the chart.\n",
      "\n",
      "    X : array-like, shape (n_samples, n_features)\n",
      "        Training vector, where n_samples is the number of samples and\n",
      "        n_features is the number of features.\n",
      "\n",
      "    y : array-like, shape (n_samples) or (n_samples, n_features), optional\n",
      "        Target relative to X for classification or regression;\n",
      "        None for unsupervised learning.\n",
      "\n",
      "    ylim : tuple, shape (ymin, ymax), optional\n",
      "        Defines minimum and maximum yvalues plotted.\n",
      "\n",
      "    cv : integer, cross-validation generator, optional\n",
      "        If an integer is passed, it is the number of folds (defaults to 3).\n",
      "        Specific cross-validation objects can be passed, see\n",
      "        sklearn.cross_validation module for the list of possible objects\n",
      "\n",
      "    n_jobs : integer, optional\n",
      "        Number of jobs to run in parallel (default 1).\n",
      "    \"\"\"\n",
      "    plt.figure()\n",
      "    plt.title(title)\n",
      "    if ylim is not None:\n",
      "        plt.ylim(*ylim)\n",
      "    plt.xlabel(\"Training examples\")\n",
      "    plt.ylabel(\"Score\")\n",
      "    train_sizes, train_scores, test_scores = learning_curve(\n",
      "        estimator, X, y, cv=cv, n_jobs=n_jobs, train_sizes=train_sizes)\n",
      "    train_scores_mean = np.mean(train_scores, axis=1)\n",
      "    train_scores_std = np.std(train_scores, axis=1)\n",
      "    test_scores_mean = np.mean(test_scores, axis=1)\n",
      "    test_scores_std = np.std(test_scores, axis=1)\n",
      "    plt.grid()\n",
      "\n",
      "    plt.fill_between(train_sizes, train_scores_mean - train_scores_std,\n",
      "                     train_scores_mean + train_scores_std, alpha=0.1,\n",
      "                     color=\"r\")\n",
      "    plt.fill_between(train_sizes, test_scores_mean - test_scores_std,\n",
      "                     test_scores_mean + test_scores_std, alpha=0.1, color=\"g\")\n",
      "    plt.plot(train_sizes, train_scores_mean, 'o-', color=\"r\",\n",
      "             label=\"Training score\")\n",
      "    plt.plot(train_sizes, test_scores_mean, 'o-', color=\"g\",\n",
      "             label=\"Cross-validation score\")\n",
      "\n",
      "    plt.legend(loc=\"best\")\n",
      "    return plt"
     ],
     "language": "python",
     "metadata": {},
     "outputs": [
      {
       "output_type": "stream",
       "stream": "stdout",
       "text": [
        "Automatically created module for IPython interactive environment\n"
       ]
      }
     ],
     "prompt_number": 16
    },
    {
     "cell_type": "code",
     "collapsed": false,
     "input": [
      "#Let's try one last technique of creating a cross-validation set. Like I mentioned earlier, when you tune parameters\n",
      "#based on Test results, you could possibly end up biasing your model based on Test. Although this may not be an issue\n",
      "#in many instances, you could create a cross validation set to avoid this.\n",
      "\n",
      "#Luckily scikit-learn has builit-in packages that can help with this. We'll use a crossvalidation generator that\n",
      "#can train the model by tuning the parameters based on a cross-validation subset (cv) that is picked from within the training\n",
      "#set. A different cv subset will be picked for each iteration, we control the number of iterations. Then we will use these \n",
      "#cv/train splits and run a gridsearch function that will evaluate the model with each split and tune parameters to give us \n",
      "#the best parameter that gives the optimal result.\n",
      "\n",
      "#OK let's now follow these steps to implement the above and see if it makes any difference to the result\n",
      "\n",
      "#80/20 test split\n",
      "X_train, X_test, y_train, y_test = train_test_split(X, y, test_size=0.2, random_state=0)\n",
      "\n",
      "#Choose Estimator as KNN\n",
      "estimator = KNeighborsClassifier(n_neighbors=3)\n",
      "\n",
      "#Choose cross-validation generator - let's choose ShuffleSplit which randomly shuffles and selects Train and CV sets\n",
      "#for each iteration. There are other methods like the KFold split.\n",
      "from sklearn.cross_validation import ShuffleSplit\n",
      "#cv = KFold(X_train.shape[0])\n",
      "cv = ShuffleSplit(X_train.shape[0], n_iter=10, test_size=0.2, random_state=0)\n",
      "\n",
      "#Apply the cross-validation iterator on the Training set using GridSearchCV. This will run the classifier on the \n",
      "#different train/cv splits using parameters specified and return the model that has the best results\n",
      "\n",
      "#Note that we are tuning based on the F1 score 2PR/P+R where P is Precision and R is Recall. This may not always be\n",
      "#the best score to tune our model on. I will explore this area further in a seperate exercise. For now, we'll use F1.\n",
      "\n",
      "from sklearn.grid_search import GridSearchCV\n",
      "classifier = GridSearchCV(estimator=estimator, cv=cv, param_grid=dict(n_neighbors=[2,3,4,5]), scoring='f1')\n",
      "\n",
      "#Also note that we're feeding multiple neighbors to the GridSearch to try out.\n",
      "\n",
      "#We'll now fit the training dataset to this classifier\n",
      "classifier.fit(X_train, y_train)\n",
      "\n",
      "#Let's look at the best estimator that was found by GridSearchCV\n",
      "print classifier.best_estimator_\n",
      "\n",
      "#Let's look at the learning curve for our model based on number of training examples. We'll call the plot_learning_curve\n",
      "#module by feeding it the estimator (best estimator returned from GS) and train/cv sets.\n",
      "\n",
      "#The module simply runs the estimator multiple times on subsets of the data provided and plots the train and cv scores.\n",
      "from sklearn.learning_curve import learning_curve\n",
      "\n",
      "title = 'Learning Curves (kNN, $\\n_neighbors=%.6f$)' %classifier.best_estimator_.n_neighbors\n",
      "estimator = classifier.best_estimator_\n",
      "plot_learning_curve(estimator, title, X_train, y_train, cv=cv)\n",
      "plt.show()\n",
      "\n",
      "#Great, we see that as the number of training samples increases, both training and cv scores are on the rise. This is\n",
      "#a good sign. If training score rose but cv score fell that would indicate high variance (overfitting). If both train and cv \n",
      "#scores are low that would indicate high bias (underfitting)."
     ],
     "language": "python",
     "metadata": {},
     "outputs": [
      {
       "output_type": "stream",
       "stream": "stdout",
       "text": [
        "KNeighborsClassifier(algorithm='auto', leaf_size=30, metric='minkowski',\n",
        "           metric_params=None, n_neighbors=5, p=2, weights='uniform')\n"
       ]
      },
      {
       "metadata": {},
       "output_type": "display_data",
       "png": "[encoded data removed]",
       "text": [
        "<matplotlib.figure.Figure at 0x7f3bb63fc150>"
       ]
      }
     ],
     "prompt_number": 88
    },
    {
     "cell_type": "code",
     "collapsed": false,
     "input": [
      "#Let's finally predict the Test labels and look at the final scores. Remember we've not touched our test set so far. This is \n",
      "#to get a good grip on how well the model will generalize.\n",
      "y_pred = classifier.predict(X_test)\n",
      "print \"Final Classification Report\"\n",
      "print metrics.classification_report(y_test, y_pred)"
     ],
     "language": "python",
     "metadata": {},
     "outputs": [
      {
       "output_type": "stream",
       "stream": "stdout",
       "text": [
        "Final Classification Report\n",
        "             precision    recall  f1-score   support\n",
        "\n",
        "        0.0       0.83      0.81      0.82       107\n",
        "        1.0       0.59      0.62      0.60        47\n",
        "\n",
        "avg / total       0.76      0.75      0.75       154\n",
        "\n"
       ]
      }
     ],
     "prompt_number": 92
    },
    {
     "cell_type": "markdown",
     "metadata": {},
     "source": [
      "So we actually have a pretty model based on kNN that can predict with an ~**76%** probability if a person has diabetes (or not), provided information as we have it in the PIMA Indians Diabetes dataset provided by UCI. "
     ]
    }
   ],
   "metadata": {}
  }
 ]
}